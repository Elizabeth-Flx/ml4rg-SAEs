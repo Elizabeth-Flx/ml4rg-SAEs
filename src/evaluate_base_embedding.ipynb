{
 "cells": [
  {
   "cell_type": "code",
   "execution_count": 1,
   "id": "a4bf0e45",
   "metadata": {},
   "outputs": [],
   "source": [
    "import evaluate_feature as ev\n",
    "import numpy as np"
   ]
  },
  {
   "cell_type": "code",
   "execution_count": 2,
   "id": "f36b14b9",
   "metadata": {},
   "outputs": [],
   "source": [
    "embs = np.load(\"../../data/layer_11_embeddings_30subset.npy\")\n",
    "binding_sites = np.load(\"../../data/chip_exo_57_TF_binding_sites_30subset.npy\")"
   ]
  },
  {
   "cell_type": "code",
   "execution_count": 3,
   "id": "840e4444",
   "metadata": {},
   "outputs": [
    {
     "name": "stdout",
     "output_type": "stream",
     "text": [
      "(1977916, 768)\n",
      "(1977916, 58)\n"
     ]
    }
   ],
   "source": [
    "flat_embs = embs.reshape(-1, embs.shape[-1])\n",
    "print(flat_embs.shape)\n",
    "flat_sites = binding_sites.reshape(-1, binding_sites.shape[-1])\n",
    "print(flat_sites.shape)"
   ]
  },
  {
   "cell_type": "code",
   "execution_count": 17,
   "id": "6306cca3",
   "metadata": {},
   "outputs": [
    {
     "data": {
      "text/plain": [
       "array([ 4102,    18,   185,    85,    81,   211,   596,    10,    36,\n",
       "          80,    18,   130,  1829,    34,   181,    20,   103,    14,\n",
       "         758,    95,   174,   255,    48,   235,  1609,    78,   111,\n",
       "         201,   300,   306,   241,   255,    30,   280,  2241,     0,\n",
       "        3378,   204,    47,    48,   307,   236,   159,   421,   284,\n",
       "         157,    81,   136,   142,   677,   167,    72,  1031,   154,\n",
       "           0,   220,    65, 21785])"
      ]
     },
     "execution_count": 17,
     "metadata": {},
     "output_type": "execute_result"
    }
   ],
   "source": [
    "np.sum(flat_sites, axis=0)"
   ]
  },
  {
   "cell_type": "code",
   "execution_count": 51,
   "id": "d4bfc834",
   "metadata": {},
   "outputs": [
    {
     "name": "stdout",
     "output_type": "stream",
     "text": [
      "(1977916, 768)\n",
      "(1977916, 1)\n"
     ]
    }
   ],
   "source": [
    "print(np.shape(flat_embs))\n",
    "print(np.shape(flat_sites[:,[-1]]))"
   ]
  },
  {
   "cell_type": "code",
   "execution_count": 23,
   "id": "c2db0cf8",
   "metadata": {},
   "outputs": [
    {
     "data": {
      "text/plain": [
       "<module 'evaluate_feature' from '/Users/Helena/Desktop/Master_fächer/MLRegGen/ml4rg-SAEs/src/evaluate_feature.py'>"
      ]
     },
     "execution_count": 23,
     "metadata": {},
     "output_type": "execute_result"
    }
   ],
   "source": [
    "import importlib\n",
    "importlib.reload(ev)"
   ]
  },
  {
   "cell_type": "code",
   "execution_count": 7,
   "id": "3b95af2d",
   "metadata": {},
   "outputs": [],
   "source": [
    "%load_ext rich"
   ]
  },
  {
   "cell_type": "code",
   "execution_count": 13,
   "id": "8b3fb335",
   "metadata": {},
   "outputs": [
    {
     "data": {
      "application/vnd.jupyter.widget-view+json": {
       "model_id": "8e00c51d55bd4682a54accb8ee6fc979",
       "version_major": 2,
       "version_minor": 0
      },
      "text/plain": [
       "Output()"
      ]
     },
     "metadata": {},
     "output_type": "display_data"
    },
    {
     "data": {
      "text/html": [
       "<pre style=\"white-space:pre;overflow-x:auto;line-height:normal;font-family:Menlo,'DejaVu Sans Mono',consolas,'Courier New',monospace\"></pre>\n"
      ],
      "text/plain": []
     },
     "metadata": {},
     "output_type": "display_data"
    }
   ],
   "source": [
    "precision_matrix = ev.calculate_precision_matrix(flat_embs, flat_sites[:,[-1]])"
   ]
  },
  {
   "cell_type": "code",
   "execution_count": null,
   "id": "b09db85f",
   "metadata": {},
   "outputs": [
    {
     "data": {
      "application/vnd.jupyter.widget-view+json": {
       "model_id": "207c0f1d8c174b11898e9a344e9b495e",
       "version_major": 2,
       "version_minor": 0
      },
      "text/plain": [
       "Output()"
      ]
     },
     "metadata": {},
     "output_type": "display_data"
    }
   ],
   "source": [
    "AUC_matrix = ev.calculate_AUC_matrix(flat_embs, flat_sites[:,[-1]])"
   ]
  },
  {
   "cell_type": "code",
   "execution_count": null,
   "id": "f7251ac5",
   "metadata": {},
   "outputs": [
    {
     "data": {
      "text/plain": [
       "array([0.00663272])"
      ]
     },
     "execution_count": 22,
     "metadata": {},
     "output_type": "execute_result"
    }
   ],
   "source": []
  },
  {
   "cell_type": "code",
   "execution_count": 17,
   "id": "827dd154",
   "metadata": {},
   "outputs": [],
   "source": [
    "import pandas as pd\n",
    "results = pd.DataFrame({\"AUC\":AUC_matrix[:,0], \"precision\":precision_matrix[:,0]})"
   ]
  },
  {
   "cell_type": "code",
   "execution_count": 18,
   "id": "fd937492",
   "metadata": {},
   "outputs": [
    {
     "data": {
      "text/plain": [
       "<Axes: xlabel='AUC', ylabel='precision'>"
      ]
     },
     "execution_count": 18,
     "metadata": {},
     "output_type": "execute_result"
    },
    {
     "data": {
      "image/png": "[encoded data removed]",
      "text/plain": [
       "<Figure size 640x480 with 1 Axes>"
      ]
     },
     "metadata": {},
     "output_type": "display_data"
    }
   ],
   "source": [
    "results.plot.scatter(\"AUC\", \"precision\", s=1)"
   ]
  }
 ],
 "metadata": {
  "kernelspec": {
   "display_name": "ML4RG",
   "language": "python",
   "name": "python3"
  },
  "language_info": {
   "codemirror_mode": {
    "name": "ipython",
    "version": 3
   },
   "file_extension": ".py",
   "mimetype": "text/x-python",
   "name": "python",
   "nbconvert_exporter": "python",
   "pygments_lexer": "ipython3",
   "version": "3.13.5"
  }
 },
 "nbformat": 4,
 "nbformat_minor": 5
}
