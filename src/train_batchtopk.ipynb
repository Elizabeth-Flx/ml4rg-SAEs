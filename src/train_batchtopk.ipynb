{
 "cells": [
  {
   "cell_type": "code",
   "execution_count": 2,
   "id": "3d4493c3",
   "metadata": {},
   "outputs": [],
   "source": [
    "import numpy as np\n",
    "import os\n",
    "import torch\n",
    "from  models.sae import BatchTopKSAE, JumpReLUSAE, VanillaSAE\n",
    "from tqdm import tqdm\n",
    "import matplotlib.pyplot as plt\n",
    "from evaluate_feature import calculate_AUC_matrix"
   ]
  },
  {
   "cell_type": "code",
   "execution_count": 20,
   "id": "873248ca",
   "metadata": {},
   "outputs": [],
   "source": [
    "# Define configurations\n",
    "cfg = {\n",
    "    \"seed\": 49,\n",
    "    \"batch_size\": 2048,\n",
    "    \"lr\": 3e-3,\n",
    "    \"l1_coeff\": 0,\n",
    "    \"dtype\": torch.float32,\n",
    "    \"act_size\": 768,\n",
    "    \"dict_size\": 768*8,\n",
    "    \"device\": \"cpu\",\n",
    "    \"num_batches_in_buffer\": 10,\n",
    "    \"dataset_path\": \"../data/layer_11_embeddings_30subset.npy\",\n",
    "    \"input_unit_norm\": True,\n",
    "    \"perf_log_freq\": 1000,\n",
    "    \"checkpoint_freq\": 10000,\n",
    "    \"n_batches_to_dead\": 5,\n",
    "    \"max_grad_norm\": 100000,\n",
    "    \"n_epochs\":5,\n",
    "\n",
    "    # (Batch)TopKSAE specific\n",
    "    \"top_k\": 32,\n",
    "    \"top_k_aux\": 512,\n",
    "    \"aux_penalty\": (1/64),\n",
    "}"
   ]
  },
  {
   "cell_type": "code",
   "execution_count": 4,
   "id": "d1852dbc",
   "metadata": {},
   "outputs": [],
   "source": [
    "# Load data\n",
    "embeddings = np.load(cfg['dataset_path'])\n",
    "embeddings_flattened = embeddings.reshape(-1,768)"
   ]
  },
  {
   "cell_type": "code",
   "execution_count": 5,
   "id": "07d8c740",
   "metadata": {},
   "outputs": [
    {
     "data": {
      "text/plain": [
       "(1977916, 768)"
      ]
     },
     "execution_count": 5,
     "metadata": {},
     "output_type": "execute_result"
    }
   ],
   "source": [
    "embeddings_flattened.shape"
   ]
  },
  {
   "cell_type": "code",
   "execution_count": 6,
   "id": "a4eb729d",
   "metadata": {},
   "outputs": [
    {
     "name": "stdout",
     "output_type": "stream",
     "text": [
      "Input data l1 norm: 173.5387\n"
     ]
    }
   ],
   "source": [
    "# check sparsity\n",
    "print(f\"Input data l1 norm: {np.mean(np.linalg.norm(embeddings_flattened, ord=1, axis=1)):.4f}\")"
   ]
  },
  {
   "cell_type": "code",
   "execution_count": 22,
   "id": "4d633339",
   "metadata": {},
   "outputs": [],
   "source": [
    "# Initialize the model\n",
    "model = BatchTopKSAE(cfg=cfg)"
   ]
  },
  {
   "cell_type": "code",
   "execution_count": 23,
   "id": "a2d10eb8",
   "metadata": {},
   "outputs": [
    {
     "name": "stderr",
     "output_type": "stream",
     "text": [
      "Epoch Progress: 0epoch [00:00, ?epoch/s]\n",
      "Training Progress: 100%|██████████| 965/965 [06:28<00:00,  2.49batch/s, Loss=0.1607, L0=32.0000, L2=0.1583, L1=0.0000, L1_norm=100.2763]\n",
      "Training Progress:  90%|█████████ | 870/965 [05:55<00:38,  2.45batch/s, Loss=0.1573, L0=32.0000, L2=0.1549, L1=0.0000, L1_norm=100.9571]\n",
      "Epoch Progress:  20%|██        | 1/5 [13:04<52:17, 784.38s/epoch]\n"
     ]
    },
    {
     "ename": "KeyboardInterrupt",
     "evalue": "",
     "output_type": "error",
     "traceback": [
      "\u001b[0;31m---------------------------------------------------------------------------\u001b[0m",
      "\u001b[0;31mKeyboardInterrupt\u001b[0m                         Traceback (most recent call last)",
      "Cell \u001b[0;32mIn[23], line 29\u001b[0m\n\u001b[1;32m     26\u001b[0m optimizer\u001b[38;5;241m.\u001b[39mzero_grad()\n\u001b[1;32m     28\u001b[0m progress_batch\u001b[38;5;241m.\u001b[39mset_postfix({\u001b[38;5;124m\"\u001b[39m\u001b[38;5;124mLoss\u001b[39m\u001b[38;5;124m\"\u001b[39m: \u001b[38;5;124mf\u001b[39m\u001b[38;5;124m\"\u001b[39m\u001b[38;5;132;01m{\u001b[39;00mloss\u001b[38;5;241m.\u001b[39mitem()\u001b[38;5;132;01m:\u001b[39;00m\u001b[38;5;124m.4f\u001b[39m\u001b[38;5;132;01m}\u001b[39;00m\u001b[38;5;124m\"\u001b[39m, \u001b[38;5;124m\"\u001b[39m\u001b[38;5;124mL0\u001b[39m\u001b[38;5;124m\"\u001b[39m: \u001b[38;5;124mf\u001b[39m\u001b[38;5;124m\"\u001b[39m\u001b[38;5;132;01m{\u001b[39;00msae_output[\u001b[38;5;124m'\u001b[39m\u001b[38;5;124ml0_norm\u001b[39m\u001b[38;5;124m'\u001b[39m]\u001b[38;5;132;01m:\u001b[39;00m\u001b[38;5;124m.4f\u001b[39m\u001b[38;5;132;01m}\u001b[39;00m\u001b[38;5;124m\"\u001b[39m, \u001b[38;5;124m\"\u001b[39m\u001b[38;5;124mL2\u001b[39m\u001b[38;5;124m\"\u001b[39m: \u001b[38;5;124mf\u001b[39m\u001b[38;5;124m\"\u001b[39m\u001b[38;5;132;01m{\u001b[39;00msae_output[\u001b[38;5;124m'\u001b[39m\u001b[38;5;124ml2_loss\u001b[39m\u001b[38;5;124m'\u001b[39m]\u001b[38;5;132;01m:\u001b[39;00m\u001b[38;5;124m.4f\u001b[39m\u001b[38;5;132;01m}\u001b[39;00m\u001b[38;5;124m\"\u001b[39m, \u001b[38;5;124m\"\u001b[39m\u001b[38;5;124mL1\u001b[39m\u001b[38;5;124m\"\u001b[39m: \u001b[38;5;124mf\u001b[39m\u001b[38;5;124m\"\u001b[39m\u001b[38;5;132;01m{\u001b[39;00msae_output[\u001b[38;5;124m'\u001b[39m\u001b[38;5;124ml1_loss\u001b[39m\u001b[38;5;124m'\u001b[39m]\u001b[38;5;132;01m:\u001b[39;00m\u001b[38;5;124m.4f\u001b[39m\u001b[38;5;132;01m}\u001b[39;00m\u001b[38;5;124m\"\u001b[39m, \u001b[38;5;124m\"\u001b[39m\u001b[38;5;124mL1_norm\u001b[39m\u001b[38;5;124m\"\u001b[39m: \u001b[38;5;124mf\u001b[39m\u001b[38;5;124m\"\u001b[39m\u001b[38;5;132;01m{\u001b[39;00msae_output[\u001b[38;5;124m'\u001b[39m\u001b[38;5;124ml1_norm\u001b[39m\u001b[38;5;124m'\u001b[39m]\u001b[38;5;132;01m:\u001b[39;00m\u001b[38;5;124m.4f\u001b[39m\u001b[38;5;132;01m}\u001b[39;00m\u001b[38;5;124m\"\u001b[39m})\n\u001b[0;32m---> 29\u001b[0m \u001b[43mloss\u001b[49m\u001b[38;5;241;43m.\u001b[39;49m\u001b[43mbackward\u001b[49m\u001b[43m(\u001b[49m\u001b[43m)\u001b[49m\n\u001b[1;32m     30\u001b[0m torch\u001b[38;5;241m.\u001b[39mnn\u001b[38;5;241m.\u001b[39mutils\u001b[38;5;241m.\u001b[39mclip_grad_norm_(model\u001b[38;5;241m.\u001b[39mparameters(), cfg[\u001b[38;5;124m\"\u001b[39m\u001b[38;5;124mmax_grad_norm\u001b[39m\u001b[38;5;124m\"\u001b[39m])\n\u001b[1;32m     31\u001b[0m model\u001b[38;5;241m.\u001b[39mmake_decoder_weights_and_grad_unit_norm()\n",
      "File \u001b[0;32m~/miniconda3/envs/batchtopk/lib/python3.10/site-packages/torch/_tensor.py:648\u001b[0m, in \u001b[0;36mTensor.backward\u001b[0;34m(self, gradient, retain_graph, create_graph, inputs)\u001b[0m\n\u001b[1;32m    638\u001b[0m \u001b[38;5;28;01mif\u001b[39;00m has_torch_function_unary(\u001b[38;5;28mself\u001b[39m):\n\u001b[1;32m    639\u001b[0m     \u001b[38;5;28;01mreturn\u001b[39;00m handle_torch_function(\n\u001b[1;32m    640\u001b[0m         Tensor\u001b[38;5;241m.\u001b[39mbackward,\n\u001b[1;32m    641\u001b[0m         (\u001b[38;5;28mself\u001b[39m,),\n\u001b[0;32m   (...)\u001b[0m\n\u001b[1;32m    646\u001b[0m         inputs\u001b[38;5;241m=\u001b[39minputs,\n\u001b[1;32m    647\u001b[0m     )\n\u001b[0;32m--> 648\u001b[0m \u001b[43mtorch\u001b[49m\u001b[38;5;241;43m.\u001b[39;49m\u001b[43mautograd\u001b[49m\u001b[38;5;241;43m.\u001b[39;49m\u001b[43mbackward\u001b[49m\u001b[43m(\u001b[49m\n\u001b[1;32m    649\u001b[0m \u001b[43m    \u001b[49m\u001b[38;5;28;43mself\u001b[39;49m\u001b[43m,\u001b[49m\u001b[43m \u001b[49m\u001b[43mgradient\u001b[49m\u001b[43m,\u001b[49m\u001b[43m \u001b[49m\u001b[43mretain_graph\u001b[49m\u001b[43m,\u001b[49m\u001b[43m \u001b[49m\u001b[43mcreate_graph\u001b[49m\u001b[43m,\u001b[49m\u001b[43m \u001b[49m\u001b[43minputs\u001b[49m\u001b[38;5;241;43m=\u001b[39;49m\u001b[43minputs\u001b[49m\n\u001b[1;32m    650\u001b[0m \u001b[43m\u001b[49m\u001b[43m)\u001b[49m\n",
      "File \u001b[0;32m~/miniconda3/envs/batchtopk/lib/python3.10/site-packages/torch/autograd/__init__.py:353\u001b[0m, in \u001b[0;36mbackward\u001b[0;34m(tensors, grad_tensors, retain_graph, create_graph, grad_variables, inputs)\u001b[0m\n\u001b[1;32m    348\u001b[0m     retain_graph \u001b[38;5;241m=\u001b[39m create_graph\n\u001b[1;32m    350\u001b[0m \u001b[38;5;66;03m# The reason we repeat the same comment below is that\u001b[39;00m\n\u001b[1;32m    351\u001b[0m \u001b[38;5;66;03m# some Python versions print out the first line of a multi-line function\u001b[39;00m\n\u001b[1;32m    352\u001b[0m \u001b[38;5;66;03m# calls in the traceback and some print out the last line\u001b[39;00m\n\u001b[0;32m--> 353\u001b[0m \u001b[43m_engine_run_backward\u001b[49m\u001b[43m(\u001b[49m\n\u001b[1;32m    354\u001b[0m \u001b[43m    \u001b[49m\u001b[43mtensors\u001b[49m\u001b[43m,\u001b[49m\n\u001b[1;32m    355\u001b[0m \u001b[43m    \u001b[49m\u001b[43mgrad_tensors_\u001b[49m\u001b[43m,\u001b[49m\n\u001b[1;32m    356\u001b[0m \u001b[43m    \u001b[49m\u001b[43mretain_graph\u001b[49m\u001b[43m,\u001b[49m\n\u001b[1;32m    357\u001b[0m \u001b[43m    \u001b[49m\u001b[43mcreate_graph\u001b[49m\u001b[43m,\u001b[49m\n\u001b[1;32m    358\u001b[0m \u001b[43m    \u001b[49m\u001b[43minputs\u001b[49m\u001b[43m,\u001b[49m\n\u001b[1;32m    359\u001b[0m \u001b[43m    \u001b[49m\u001b[43mallow_unreachable\u001b[49m\u001b[38;5;241;43m=\u001b[39;49m\u001b[38;5;28;43;01mTrue\u001b[39;49;00m\u001b[43m,\u001b[49m\n\u001b[1;32m    360\u001b[0m \u001b[43m    \u001b[49m\u001b[43maccumulate_grad\u001b[49m\u001b[38;5;241;43m=\u001b[39;49m\u001b[38;5;28;43;01mTrue\u001b[39;49;00m\u001b[43m,\u001b[49m\n\u001b[1;32m    361\u001b[0m \u001b[43m\u001b[49m\u001b[43m)\u001b[49m\n",
      "File \u001b[0;32m~/miniconda3/envs/batchtopk/lib/python3.10/site-packages/torch/autograd/graph.py:824\u001b[0m, in \u001b[0;36m_engine_run_backward\u001b[0;34m(t_outputs, *args, **kwargs)\u001b[0m\n\u001b[1;32m    822\u001b[0m     unregister_hooks \u001b[38;5;241m=\u001b[39m _register_logging_hooks_on_whole_graph(t_outputs)\n\u001b[1;32m    823\u001b[0m \u001b[38;5;28;01mtry\u001b[39;00m:\n\u001b[0;32m--> 824\u001b[0m     \u001b[38;5;28;01mreturn\u001b[39;00m \u001b[43mVariable\u001b[49m\u001b[38;5;241;43m.\u001b[39;49m\u001b[43m_execution_engine\u001b[49m\u001b[38;5;241;43m.\u001b[39;49m\u001b[43mrun_backward\u001b[49m\u001b[43m(\u001b[49m\u001b[43m  \u001b[49m\u001b[38;5;66;43;03m# Calls into the C++ engine to run the backward pass\u001b[39;49;00m\n\u001b[1;32m    825\u001b[0m \u001b[43m        \u001b[49m\u001b[43mt_outputs\u001b[49m\u001b[43m,\u001b[49m\u001b[43m \u001b[49m\u001b[38;5;241;43m*\u001b[39;49m\u001b[43margs\u001b[49m\u001b[43m,\u001b[49m\u001b[43m \u001b[49m\u001b[38;5;241;43m*\u001b[39;49m\u001b[38;5;241;43m*\u001b[39;49m\u001b[43mkwargs\u001b[49m\n\u001b[1;32m    826\u001b[0m \u001b[43m    \u001b[49m\u001b[43m)\u001b[49m  \u001b[38;5;66;03m# Calls into the C++ engine to run the backward pass\u001b[39;00m\n\u001b[1;32m    827\u001b[0m \u001b[38;5;28;01mfinally\u001b[39;00m:\n\u001b[1;32m    828\u001b[0m     \u001b[38;5;28;01mif\u001b[39;00m attach_logging_hooks:\n",
      "\u001b[0;31mKeyboardInterrupt\u001b[0m: "
     ]
    }
   ],
   "source": [
    "# Training loop\n",
    "num_batches = embeddings_flattened.shape[0] // cfg['batch_size']\n",
    "progress_epoch = tqdm(cfg['n_epochs'], desc=\"Epoch Progress\", unit=\"epoch\")\n",
    "torch.manual_seed(cfg['seed'])\n",
    "optimizer = torch.optim.Adam(model.parameters(), lr=cfg['lr'])\n",
    "best_model = None\n",
    "best_loss = float('inf')\n",
    "progress_epoch = tqdm(range(cfg['n_epochs']), desc=\"Epoch Progress\", unit=\"epoch\", leave=True, position=1)\n",
    "for epoch in progress_epoch:\n",
    "    model.train()\n",
    "    np.random.shuffle(embeddings_flattened)\n",
    "    embeddings_flattened = embeddings_flattened[np.random.permutation(embeddings_flattened.shape[0])]\n",
    "    num_batches = embeddings_flattened.shape[0] // cfg['batch_size']\n",
    "    progress_batch = tqdm(range(num_batches), desc=\"Training Progress\", unit=\"batch\", leave=True, position=0)\n",
    "    for batch_idx in progress_batch:\n",
    "        batch_data = embeddings_flattened[batch_idx*cfg['batch_size']:(batch_idx+1)*cfg['batch_size']]\n",
    "        if len(batch_data) < cfg['batch_size']:\n",
    "            continue\n",
    "\n",
    "        batch_data = torch.tensor(batch_data, dtype=cfg['dtype'], device=cfg['device'])\n",
    "\n",
    "        sae_output = model(batch_data)\n",
    "        loss = sae_output['loss']\n",
    "\n",
    "     \n",
    "        optimizer.zero_grad()\n",
    "\n",
    "        progress_batch.set_postfix({\"Loss\": f\"{loss.item():.4f}\", \"L0\": f\"{sae_output['l0_norm']:.4f}\", \"L2\": f\"{sae_output['l2_loss']:.4f}\", \"L1\": f\"{sae_output['l1_loss']:.4f}\", \"L1_norm\": f\"{sae_output['l1_norm']:.4f}\"})\n",
    "        loss.backward()\n",
    "        torch.nn.utils.clip_grad_norm_(model.parameters(), cfg[\"max_grad_norm\"])\n",
    "        model.make_decoder_weights_and_grad_unit_norm()\n",
    "        optimizer.step()\n",
    "\n",
    "        if loss.item() < best_loss:\n",
    "            best_loss = loss.item()\n",
    "            best_model = model.state_dict()\n",
    "\n"
   ]
  },
  {
   "cell_type": "code",
   "execution_count": 11,
   "id": "f866e250",
   "metadata": {},
   "outputs": [
    {
     "name": "stderr",
     "output_type": "stream",
     "text": [
      "100%|██████████| 483/483 [01:07<00:00,  7.21it/s]\n"
     ]
    }
   ],
   "source": [
    "batch_size = cfg['batch_size']\n",
    "top_k = cfg['top_k']\n",
    "embedding_dim = embeddings_flattened.shape[-1]\n",
    "num_samples = embeddings_flattened.shape[0]\n",
    "all_topk_indices = []\n",
    "all_topk_values = []\n",
    "\n",
    "with torch.no_grad():\n",
    "    for start in tqdm(range(0, num_samples, batch_size)):\n",
    "        end = min(start + batch_size, num_samples)\n",
    "        batch = embeddings_flattened[start:end]\n",
    "        batch_tensor = torch.tensor(batch, dtype=cfg['dtype'], device=cfg['device'])\n",
    "        sae_output = model(batch_tensor)\n",
    "        feature_acts = sae_output[\"feature_acts\"]\n",
    "        topk_values, topk_indices = torch.topk(feature_acts, top_k, dim=-1)\n",
    "        all_topk_indices.append(topk_indices.cpu().numpy())\n",
    "        all_topk_values.append(topk_values.cpu().numpy())\n",
    "\n",
    "# Concatenate results for all batches\n",
    "all_topk_indices = np.concatenate(all_topk_indices, axis=0)\n",
    "all_topk_values = np.concatenate(all_topk_values, axis=0)"
   ]
  },
  {
   "cell_type": "code",
   "execution_count": 12,
   "id": "e42d258c",
   "metadata": {},
   "outputs": [],
   "source": [
    "# save the results\n",
    "np.save(\"../data/topk_indices.npy\", all_topk_indices)\n",
    "np.save(\"../data/topk_values.npy\", all_topk_values)"
   ]
  },
  {
   "cell_type": "code",
   "execution_count": 3,
   "id": "a71dcc02",
   "metadata": {},
   "outputs": [],
   "source": [
    "ground_truth = np.load(\"../data/chip_exo_57_TF_binding_sites_30subset.npy\")\n",
    "ground_truth_flattened = ground_truth.reshape(-1, 58)[:,57].reshape(-1,1)"
   ]
  },
  {
   "cell_type": "code",
   "execution_count": 5,
   "id": "9a0e9242",
   "metadata": {},
   "outputs": [
    {
     "data": {
      "text/plain": [
       "(1977916, 58)"
      ]
     },
     "execution_count": 5,
     "metadata": {},
     "output_type": "execute_result"
    }
   ],
   "source": [
    "ground_truth.reshape(-1, 58).shape"
   ]
  },
  {
   "cell_type": "code",
   "execution_count": 15,
   "id": "7a044f9c",
   "metadata": {},
   "outputs": [
    {
     "data": {
      "application/vnd.jupyter.widget-view+json": {
       "model_id": "76ff28d182c843c1a62c720178d2526f",
       "version_major": 2,
       "version_minor": 0
      },
      "text/plain": [
       "Output()"
      ]
     },
     "metadata": {},
     "output_type": "display_data"
    },
    {
     "data": {
      "text/html": [
       "<pre style=\"white-space:pre;overflow-x:auto;line-height:normal;font-family:Menlo,'DejaVu Sans Mono',consolas,'Courier New',monospace\"></pre>\n"
      ],
      "text/plain": []
     },
     "metadata": {},
     "output_type": "display_data"
    }
   ],
   "source": [
    "auc_matrix = calculate_AUC_matrix(all_topk_values, ground_truth_flattened)"
   ]
  },
  {
   "cell_type": "code",
   "execution_count": 18,
   "id": "8e364012",
   "metadata": {},
   "outputs": [
    {
     "data": {
      "text/plain": [
       "(1977916, 32)"
      ]
     },
     "execution_count": 18,
     "metadata": {},
     "output_type": "execute_result"
    }
   ],
   "source": [
    "all_topk_values.shape"
   ]
  },
  {
   "cell_type": "code",
   "execution_count": 16,
   "id": "4c2e26b1",
   "metadata": {},
   "outputs": [
    {
     "data": {
      "text/plain": [
       "(32, 1)"
      ]
     },
     "execution_count": 16,
     "metadata": {},
     "output_type": "execute_result"
    }
   ],
   "source": [
    "auc_matrix.shape"
   ]
  },
  {
   "cell_type": "code",
   "execution_count": 17,
   "id": "e50d5c69",
   "metadata": {},
   "outputs": [
    {
     "data": {
      "text/plain": [
       "array([[0.49970105],\n",
       "       [0.49928926],\n",
       "       [0.50055645],\n",
       "       [0.50191032],\n",
       "       [0.50160694],\n",
       "       [0.50086598],\n",
       "       [0.50058897],\n",
       "       [0.50083385],\n",
       "       [0.50069274],\n",
       "       [0.50118461],\n",
       "       [0.50112238],\n",
       "       [0.50194112],\n",
       "       [0.50110888],\n",
       "       [0.50076921],\n",
       "       [0.49969927],\n",
       "       [0.49928858],\n",
       "       [0.49931681],\n",
       "       [0.49939897],\n",
       "       [0.49965005],\n",
       "       [0.4992015 ],\n",
       "       [0.49919926],\n",
       "       [0.49904802],\n",
       "       [0.4993925 ],\n",
       "       [0.49877903],\n",
       "       [0.49900689],\n",
       "       [0.49921152],\n",
       "       [0.49944577],\n",
       "       [0.49910303],\n",
       "       [0.49895628],\n",
       "       [0.49844628],\n",
       "       [0.49906768],\n",
       "       [0.49851648]])"
      ]
     },
     "execution_count": 17,
     "metadata": {},
     "output_type": "execute_result"
    }
   ],
   "source": [
    "auc_matrix"
   ]
  },
  {
   "cell_type": "code",
   "execution_count": 19,
   "id": "3e5a484d",
   "metadata": {},
   "outputs": [
    {
     "data": {
      "text/plain": [
       "<matplotlib.legend.Legend at 0x746fd3cfec80>"
      ]
     },
     "execution_count": 19,
     "metadata": {},
     "output_type": "execute_result"
    },
    {
     "data": {
      "image/png": "[encoded data removed]",
      "text/plain": [
       "<Figure size 2500x600 with 1 Axes>"
      ]
     },
     "metadata": {},
     "output_type": "display_data"
    }
   ],
   "source": [
    "# Plot Bar for AUC of each PC\n",
    "plt.figure(figsize=(25, 6))\n",
    "plt.style.use('seaborn-v0_8-deep')\n",
    "plt.bar(range(1, auc_matrix.shape[0] + 1), auc_matrix.flatten(), color='lightblue', edgecolor='black', width=0.6, alpha=0.7)\n",
    "plt.axhline(y=0.5, color='red', linestyle='--', label='Above Random')\n",
    "plt.xlabel('TopK Activation Features')\n",
    "plt.ylabel('AUC')\n",
    "plt.title('AUC for Top K Activation Features of BatchTopKSAE')\n",
    "\n",
    "plt.ylim(0, 1)\n",
    "plt.xticks(range(1, 33))\n",
    "# color the bar with higer AUC in green\n",
    "max_auc = np.max(auc_matrix)\n",
    "max_auc_index = np.argmax(auc_matrix)\n",
    "plt.bar(max_auc_index + 1, auc_matrix.flatten()[max_auc_index], color='lightgreen', edgecolor='black', width=0.6, alpha=0.7, label=f'Max AUC with {max_auc:.2f}')\n",
    "plt.legend()"
   ]
  }
 ],
 "metadata": {
  "kernelspec": {
   "display_name": "batchtopk",
   "language": "python",
   "name": "python3"
  },
  "language_info": {
   "codemirror_mode": {
    "name": "ipython",
    "version": 3
   },
   "file_extension": ".py",
   "mimetype": "text/x-python",
   "name": "python",
   "nbconvert_exporter": "python",
   "pygments_lexer": "ipython3",
   "version": "3.10.12"
  }
 },
 "nbformat": 4,
 "nbformat_minor": 5
}
