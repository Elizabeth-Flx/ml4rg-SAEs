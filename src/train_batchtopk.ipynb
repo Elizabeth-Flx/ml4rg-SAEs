{
 "cells": [
  {
   "cell_type": "code",
   "execution_count": null,
   "id": "3d4493c3",
   "metadata": {},
   "outputs": [],
   "source": [
    "import numpy as np\n",
    "import os\n",
    "import torch\n",
    "from  models.sae import BatchTopKSAE \n",
    "import tqdm\n",
    "import matplotlib.pyplot as plt\n",
    "from evaluate_feature import calculate_AUC_matrix"
   ]
  },
  {
   "cell_type": "code",
   "execution_count": 30,
   "id": "873248ca",
   "metadata": {},
   "outputs": [],
   "source": [
    "# Define configurations\n",
    "cfg = {\n",
    "    \"seed\": 49,\n",
    "    \"batch_size\": 32,\n",
    "    \"lr\": 1e-3,\n",
    "    \"l1_coeff\": 0,\n",
    "    \"dtype\": torch.float32,\n",
    "    \"act_size\": 768,\n",
    "    \"dict_size\": 768*4,\n",
    "    \"device\": \"cpu\",\n",
    "    \"num_batches_in_buffer\": 10,\n",
    "    \"dataset_path\": \"../data/layer_11_embeddings_30subset.npy\",\n",
    "    \"input_unit_norm\": True,\n",
    "    \"perf_log_freq\": 1000,\n",
    "    \"checkpoint_freq\": 10000,\n",
    "    \"n_batches_to_dead\": 5,\n",
    "    \"max_grad_norm\": 100000,\n",
    "\n",
    "    # (Batch)TopKSAE specific\n",
    "    \"top_k\": 32,\n",
    "    \"top_k_aux\": 512,\n",
    "    \"aux_penalty\": (1/32),\n",
    "    # for jumprelu\n",
    "    \"bandwidth\": 0.001,\n",
    "}"
   ]
  },
  {
   "cell_type": "code",
   "execution_count": 26,
   "id": "d1852dbc",
   "metadata": {},
   "outputs": [
    {
     "data": {
      "text/plain": [
       "(1972, 1003, 768)"
      ]
     },
     "execution_count": 26,
     "metadata": {},
     "output_type": "execute_result"
    }
   ],
   "source": [
    "# Load data\n",
    "embeddings = np.load(cfg['dataset_path'])\n",
    "embeddings.shape"
   ]
  },
  {
   "cell_type": "code",
   "execution_count": 27,
   "id": "4d633339",
   "metadata": {},
   "outputs": [],
   "source": [
    "# Initialize the model\n",
    "model = BatchTopKSAE(cfg=cfg)"
   ]
  },
  {
   "cell_type": "code",
   "execution_count": 28,
   "id": "a2d10eb8",
   "metadata": {},
   "outputs": [
    {
     "name": "stderr",
     "output_type": "stream",
     "text": [
      "100%|██████████| 61/61 [04:51<00:00,  4.77s/it, Loss=0.2983, L0=32.0000, L2=0.2983, L1=0.0000, L1_norm=73.0146]\n"
     ]
    }
   ],
   "source": [
    "# Training loop\n",
    "num_batches = embeddings.shape[0] // cfg['batch_size']\n",
    "progress = tqdm.trange(num_batches)\n",
    "torch.manual_seed(cfg['seed'])\n",
    "optimizer = torch.optim.Adam(model.parameters(), lr=cfg['lr'])\n",
    "\n",
    "for i,batch_idx in zip(progress,range(0, len(embeddings), cfg['batch_size'])):\n",
    "    batch_data = embeddings[batch_idx: batch_idx + cfg['batch_size'],:,:].reshape(-1,768)\n",
    "    if len(batch_data) < cfg['batch_size']:\n",
    "        continue  # Skip incomplete batches\n",
    "\n",
    "    batch_data = torch.tensor(batch_data, dtype=cfg['dtype'], device=cfg['device'])\n",
    "\n",
    "    sae_output = model(batch_data)\n",
    "    loss = sae_output['loss']\n",
    "\n",
    "    optimizer.zero_grad()\n",
    "\n",
    "    progress.set_postfix({\"Loss\": f\"{loss.item():.4f}\", \"L0\": f\"{sae_output['l0_norm']:.4f}\", \"L2\": f\"{sae_output['l2_loss']:.4f}\", \"L1\": f\"{sae_output['l1_loss']:.4f}\", \"L1_norm\": f\"{sae_output['l1_norm']:.4f}\"})\n",
    "    loss.backward()\n",
    "    torch.nn.utils.clip_grad_norm_(model.parameters(), cfg[\"max_grad_norm\"])\n",
    "    model.make_decoder_weights_and_grad_unit_norm()\n",
    "    optimizer.step()\n",
    "\n"
   ]
  },
  {
   "cell_type": "code",
   "execution_count": 31,
   "id": "f866e250",
   "metadata": {},
   "outputs": [],
   "source": [
    "batch_size = cfg['batch_size']\n",
    "top_k = cfg['top_k']\n",
    "embedding_dim = embeddings.shape[-1]\n",
    "\n",
    "embeddings = np.load(cfg['dataset_path'], mmap_mode='r')  # memory-map for large files\n",
    "num_samples = embeddings.shape[0]\n",
    "\n",
    "all_topk_indices = []\n",
    "all_topk_values = []\n",
    "\n",
    "with torch.no_grad():\n",
    "    for start in tqdm(range(0, num_samples, batch_size)):\n",
    "        end = min(start + batch_size, num_samples)\n",
    "        batch = embeddings[start:end]\n",
    "        if batch.ndim == 3:\n",
    "            batch = batch.reshape(-1, embedding_dim)\n",
    "        batch_tensor = torch.tensor(batch, dtype=cfg['dtype'], device=cfg['device'])\n",
    "        sae_output = model(batch_tensor)\n",
    "        feature_acts = sae_output[\"feature_acts\"]\n",
    "        topk_values, topk_indices = torch.topk(feature_acts, top_k, dim=-1)\n",
    "        all_topk_indices.append(topk_indices.cpu().numpy())\n",
    "        all_topk_values.append(topk_values.cpu().numpy())\n",
    "\n",
    "# Concatenate results for all batches\n",
    "all_topk_indices = np.concatenate(all_topk_indices, axis=0)\n",
    "all_topk_values = np.concatenate(all_topk_values, axis=0)"
   ]
  },
  {
   "cell_type": "code",
   "execution_count": 32,
   "id": "e42d258c",
   "metadata": {},
   "outputs": [],
   "source": [
    "# save the results\n",
    "np.save(\"../data/topk_indices.npy\", all_topk_indices)\n",
    "np.save(\"../data/topk_values.npy\", all_topk_values)"
   ]
  },
  {
   "cell_type": "code",
   "execution_count": 17,
   "id": "a71dcc02",
   "metadata": {},
   "outputs": [],
   "source": [
    "ground_truth = np.load(\"../data/chip_exo_57_TF_binding_sites_30subset.npy\")\n",
    "ground_truth_flattened = ground_truth.reshape(-1, 58)[:,57].reshape(-1,1)"
   ]
  },
  {
   "cell_type": "code",
   "execution_count": 33,
   "id": "7a044f9c",
   "metadata": {},
   "outputs": [
    {
     "data": {
      "application/vnd.jupyter.widget-view+json": {
       "model_id": "5b9fa4233aec406288fbf8719206d4a5",
       "version_major": 2,
       "version_minor": 0
      },
      "text/plain": [
       "Output()"
      ]
     },
     "metadata": {},
     "output_type": "display_data"
    },
    {
     "data": {
      "text/html": [
       "<pre style=\"white-space:pre;overflow-x:auto;line-height:normal;font-family:Menlo,'DejaVu Sans Mono',consolas,'Courier New',monospace\"></pre>\n"
      ],
      "text/plain": []
     },
     "metadata": {},
     "output_type": "display_data"
    }
   ],
   "source": [
    "auc_matrix = calculate_AUC_matrix(all_topk_values, ground_truth_flattened)"
   ]
  },
  {
   "cell_type": "code",
   "execution_count": null,
   "id": "4c2e26b1",
   "metadata": {},
   "outputs": [
    {
     "data": {
      "text/plain": [
       "(32, 1)"
      ]
     },
     "execution_count": 20,
     "metadata": {},
     "output_type": "execute_result"
    }
   ],
   "source": [
    "auc_matrix.shape"
   ]
  },
  {
   "cell_type": "code",
   "execution_count": 34,
   "id": "e50d5c69",
   "metadata": {},
   "outputs": [
    {
     "data": {
      "text/plain": [
       "array([[0.53898524],\n",
       "       [0.53165955],\n",
       "       [0.52521494],\n",
       "       [0.52031133],\n",
       "       [0.5180403 ],\n",
       "       [0.51594066],\n",
       "       [0.51512815],\n",
       "       [0.51575421],\n",
       "       [0.5180967 ],\n",
       "       [0.52266517],\n",
       "       [0.52667545],\n",
       "       [0.52969535],\n",
       "       [0.53343067],\n",
       "       [0.53981264],\n",
       "       [0.54576522],\n",
       "       [0.55219897],\n",
       "       [0.55955527],\n",
       "       [0.56711576],\n",
       "       [0.57442811],\n",
       "       [0.58168398],\n",
       "       [0.58876178],\n",
       "       [0.59558096],\n",
       "       [0.6011477 ],\n",
       "       [0.60792922],\n",
       "       [0.61250833],\n",
       "       [0.61699443],\n",
       "       [0.62032367],\n",
       "       [0.62365578],\n",
       "       [0.6249882 ],\n",
       "       [0.62657838],\n",
       "       [0.62523087],\n",
       "       [0.62323472]])"
      ]
     },
     "execution_count": 34,
     "metadata": {},
     "output_type": "execute_result"
    }
   ],
   "source": [
    "auc_matrix"
   ]
  },
  {
   "cell_type": "code",
   "execution_count": 35,
   "id": "3e5a484d",
   "metadata": {},
   "outputs": [
    {
     "data": {
      "text/plain": [
       "<matplotlib.legend.Legend at 0x7268a874ec80>"
      ]
     },
     "execution_count": 35,
     "metadata": {},
     "output_type": "execute_result"
    },
    {
     "data": {
      "image/png": "[encoded data removed]",
      "text/plain": [
       "<Figure size 2500x600 with 1 Axes>"
      ]
     },
     "metadata": {},
     "output_type": "display_data"
    }
   ],
   "source": [
    "# Plot Bar for AUC of each PC\n",
    "plt.figure(figsize=(25, 6))\n",
    "plt.style.use('seaborn-v0_8-deep')\n",
    "plt.bar(range(1, auc_matrix.shape[0] + 1), auc_matrix.flatten(), color='lightblue', edgecolor='black', width=0.6, alpha=0.7)\n",
    "plt.axhline(y=0.5, color='red', linestyle='--', label='Above Random')\n",
    "plt.xlabel('TopK Activation Features')\n",
    "plt.ylabel('AUC')\n",
    "plt.title('AUC for TopK Activation Features')\n",
    "\n",
    "plt.ylim(0, 1)\n",
    "plt.xticks(range(1, 33))\n",
    "# color the bar with higer AUC in green\n",
    "max_auc = np.max(auc_matrix)\n",
    "max_auc_index = np.argmax(auc_matrix)\n",
    "plt.bar(max_auc_index + 1, auc_matrix.flatten()[max_auc_index], color='lightgreen', edgecolor='black', width=0.6, alpha=0.7, label=f'Max AUC with {max_auc:.2f}')\n",
    "plt.legend()"
   ]
  }
 ],
 "metadata": {
  "kernelspec": {
   "display_name": "batchtopk",
   "language": "python",
   "name": "python3"
  },
  "language_info": {
   "codemirror_mode": {
    "name": "ipython",
    "version": 3
   },
   "file_extension": ".py",
   "mimetype": "text/x-python",
   "name": "python",
   "nbconvert_exporter": "python",
   "pygments_lexer": "ipython3",
   "version": "3.10.12"
  }
 },
 "nbformat": 4,
 "nbformat_minor": 5
}
