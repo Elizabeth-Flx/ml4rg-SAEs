{
 "cells": [
  {
   "cell_type": "code",
   "execution_count": 1,
   "id": "167ba3e3",
   "metadata": {},
   "outputs": [],
   "source": [
    "%load_ext autoreload\n",
    "%autoreload 2"
   ]
  },
  {
   "cell_type": "code",
   "execution_count": 2,
   "id": "6fc48d86",
   "metadata": {},
   "outputs": [],
   "source": [
    "import numpy as np\n",
    "import os\n",
    "import torch\n",
    "from  models.simple_sae import SAE \n",
    "# import tqdm\n",
    "# import matplotlib.pyplot as plt\n",
    "# from evaluate_feature import calculate_AUC_matrix"
   ]
  },
  {
   "cell_type": "code",
   "execution_count": 3,
   "id": "76be3c99",
   "metadata": {},
   "outputs": [
    {
     "data": {
      "text/plain": [
       "(1972, 1003, 768)"
      ]
     },
     "execution_count": 3,
     "metadata": {},
     "output_type": "execute_result"
    }
   ],
   "source": [
    "data_ = np.load(\"layer_11_embeddings_30subset.npy\")\n",
    "data_.shape"
   ]
  },
  {
   "cell_type": "code",
   "execution_count": 4,
   "id": "3ea12cd3",
   "metadata": {},
   "outputs": [
    {
     "data": {
      "text/plain": [
       "(1977916, 768)"
      ]
     },
     "execution_count": 4,
     "metadata": {},
     "output_type": "execute_result"
    }
   ],
   "source": [
    "data = data_.reshape(-1, data_.shape[-1])\n",
    "data.shape"
   ]
  },
  {
   "cell_type": "code",
   "execution_count": 14,
   "id": "f56e9664",
   "metadata": {},
   "outputs": [
    {
     "data": {
      "text/plain": [
       "np.float32(6.0507812)"
      ]
     },
     "execution_count": 14,
     "metadata": {},
     "output_type": "execute_result"
    }
   ],
   "source": [
    "data.max()"
   ]
  },
  {
   "cell_type": "code",
   "execution_count": 9,
   "id": "95a2b947",
   "metadata": {},
   "outputs": [
    {
     "name": "stderr",
     "output_type": "stream",
     "text": [
      "\u001b[34m\u001b[1mwandb\u001b[0m: \u001b[33mWARNING\u001b[0m Calling wandb.login() after wandb.init() has no effect.\n"
     ]
    },
    {
     "data": {
      "text/html": [
       "Finishing previous runs because reinit is set to 'default'."
      ],
      "text/plain": [
       "<IPython.core.display.HTML object>"
      ]
     },
     "metadata": {},
     "output_type": "display_data"
    },
    {
     "data": {
      "text/html": [],
      "text/plain": [
       "<IPython.core.display.HTML object>"
      ]
     },
     "metadata": {},
     "output_type": "display_data"
    },
    {
     "data": {
      "text/html": [
       " View run <strong style=\"color:#cdcd00\">distinctive-surf-2</strong> at: <a href='https://wandb.ai/elizabeth-lochert-flx/ml4rg/runs/tvzlf33g' target=\"_blank\">https://wandb.ai/elizabeth-lochert-flx/ml4rg/runs/tvzlf33g</a><br> View project at: <a href='https://wandb.ai/elizabeth-lochert-flx/ml4rg' target=\"_blank\">https://wandb.ai/elizabeth-lochert-flx/ml4rg</a><br>Synced 5 W&B file(s), 0 media file(s), 0 artifact file(s) and 0 other file(s)"
      ],
      "text/plain": [
       "<IPython.core.display.HTML object>"
      ]
     },
     "metadata": {},
     "output_type": "display_data"
    },
    {
     "data": {
      "text/html": [
       "Find logs at: <code>.\\wandb\\run-20250627_101841-tvzlf33g\\logs</code>"
      ],
      "text/plain": [
       "<IPython.core.display.HTML object>"
      ]
     },
     "metadata": {},
     "output_type": "display_data"
    },
    {
     "data": {
      "text/html": [
       "Tracking run with wandb version 0.20.1"
      ],
      "text/plain": [
       "<IPython.core.display.HTML object>"
      ]
     },
     "metadata": {},
     "output_type": "display_data"
    },
    {
     "data": {
      "text/html": [
       "Run data is saved locally in <code>f:\\Workspace\\ml4rg-SAEs\\src\\wandb\\run-20250627_101858-9pmlctqh</code>"
      ],
      "text/plain": [
       "<IPython.core.display.HTML object>"
      ]
     },
     "metadata": {},
     "output_type": "display_data"
    },
    {
     "data": {
      "text/html": [
       "Syncing run <strong><a href='https://wandb.ai/elizabeth-lochert-flx/ml4rg/runs/9pmlctqh' target=\"_blank\">expert-thunder-3</a></strong> to <a href='https://wandb.ai/elizabeth-lochert-flx/ml4rg' target=\"_blank\">Weights & Biases</a> (<a href='https://wandb.me/developer-guide' target=\"_blank\">docs</a>)<br>"
      ],
      "text/plain": [
       "<IPython.core.display.HTML object>"
      ]
     },
     "metadata": {},
     "output_type": "display_data"
    },
    {
     "data": {
      "text/html": [
       " View project at <a href='https://wandb.ai/elizabeth-lochert-flx/ml4rg' target=\"_blank\">https://wandb.ai/elizabeth-lochert-flx/ml4rg</a>"
      ],
      "text/plain": [
       "<IPython.core.display.HTML object>"
      ]
     },
     "metadata": {},
     "output_type": "display_data"
    },
    {
     "data": {
      "text/html": [
       " View run at <a href='https://wandb.ai/elizabeth-lochert-flx/ml4rg/runs/9pmlctqh' target=\"_blank\">https://wandb.ai/elizabeth-lochert-flx/ml4rg/runs/9pmlctqh</a>"
      ],
      "text/plain": [
       "<IPython.core.display.HTML object>"
      ]
     },
     "metadata": {},
     "output_type": "display_data"
    },
    {
     "data": {
      "text/html": [
       "<button onClick=\"this.nextSibling.style.display='block';this.style.display='none';\">Display W&B run</button><iframe src='https://wandb.ai/elizabeth-lochert-flx/ml4rg/runs/9pmlctqh?jupyter=true' style='border:none;width:100%;height:420px;display:none;'></iframe>"
      ],
      "text/plain": [
       "<wandb.sdk.wandb_run.Run at 0x1b12420e890>"
      ]
     },
     "execution_count": 9,
     "metadata": {},
     "output_type": "execute_result"
    }
   ],
   "source": [
    "import wandb\n",
    "from dotenv import load_dotenv\n",
    "\n",
    "wandb.login(key=os.getenv(\"WANDB_API_KEY\"))\n",
    "wandb.init(\n",
    "    project=\"ml4rg\",\n",
    "    entity='elizabeth-lochert-flx'\n",
    ")"
   ]
  },
  {
   "cell_type": "code",
   "execution_count": 10,
   "id": "f2f010a9",
   "metadata": {},
   "outputs": [
    {
     "name": "stdout",
     "output_type": "stream",
     "text": [
      "Epoch 1/3, Loss: 0.050917\n",
      "Epoch 2/3, Loss: 0.021118\n",
      "Epoch 3/3, Loss: 0.013892\n"
     ]
    }
   ],
   "source": [
    "import torch\n",
    "import torch.nn as nn\n",
    "import torch.optim as optim\n",
    "from torch.utils.data import DataLoader, TensorDataset\n",
    "\n",
    "device = torch.device(\"cuda\" if torch.cuda.is_available() else \"cpu\")\n",
    "\n",
    "\n",
    "# === Dummy Data Example (Replace this with your real data) ===\n",
    "# Assuming inputs are normalized between 0 and 1\n",
    "X = torch.from_numpy(data)\n",
    "dataset = TensorDataset(X)\n",
    "dataloader = DataLoader(dataset, batch_size=1024*16, shuffle=True)\n",
    "\n",
    "# === Model, Loss, Optimizer ===\n",
    "input_dim = 768\n",
    "latent_dim = 8000\n",
    "model = SAE(input_dim=input_dim, latent_space_dim=latent_dim).to(device)\n",
    "criterion = nn.MSELoss()  # Or use nn.BCELoss() if your inputs are binary\n",
    "optimizer = optim.Adam(model.parameters(), lr=1e-3)\n",
    "\n",
    "# L1 sparsity strength\n",
    "l1_lambda = 1e-5\n",
    "\n",
    "# === Training loop ===\n",
    "n_epochs = 3\n",
    "\n",
    "for epoch in range(n_epochs):\n",
    "    model.train()\n",
    "    running_loss = 0.0\n",
    "\n",
    "    for batch in dataloader:\n",
    "        inputs = batch[0].to(device)\n",
    "\n",
    "        optimizer.zero_grad()\n",
    "\n",
    "        # print(inputs.shape)\n",
    "\n",
    "        # Forward pass\n",
    "        outputs, latent = model(inputs)\n",
    "\n",
    "        # Losses\n",
    "        recon_loss = criterion(outputs, inputs)\n",
    "        l1_loss = l1_lambda * torch.mean(torch.abs(latent))  # L1 on latent space\n",
    "\n",
    "        loss = recon_loss + l1_loss\n",
    "\n",
    "        # Backward + optimize\n",
    "        loss.backward()\n",
    "        optimizer.step()\n",
    "\n",
    "        wandb.log({\"loss\": loss.item()})\n",
    "\n",
    "        running_loss += loss.item() * inputs.size(0)\n",
    "\n",
    "    epoch_loss = running_loss / len(dataloader.dataset)\n",
    "    print(f\"Epoch {epoch + 1}/{n_epochs}, Loss: {epoch_loss:.6f}\")"
   ]
  },
  {
   "cell_type": "code",
   "execution_count": 11,
   "id": "0c6db1f1",
   "metadata": {},
   "outputs": [],
   "source": [
    "model_save_path = f\"./model_e3.pt\"\n",
    "torch.save(model.state_dict(), model_save_path)"
   ]
  }
 ],
 "metadata": {
  "kernelspec": {
   "display_name": "pp1",
   "language": "python",
   "name": "python3"
  },
  "language_info": {
   "codemirror_mode": {
    "name": "ipython",
    "version": 3
   },
   "file_extension": ".py",
   "mimetype": "text/x-python",
   "name": "python",
   "nbconvert_exporter": "python",
   "pygments_lexer": "ipython3",
   "version": "3.10.18"
  }
 },
 "nbformat": 4,
 "nbformat_minor": 5
}
